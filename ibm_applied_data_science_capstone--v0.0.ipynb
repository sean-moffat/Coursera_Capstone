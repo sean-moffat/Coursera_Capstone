{
 "cells": [
  {
   "cell_type": "markdown",
   "metadata": {
    "collapsed": true
   },
   "source": [
    "# My Jupyter Notebook for Applied Data Science Capstone"
   ]
  },
  {
   "cell_type": "markdown",
   "metadata": {},
   "source": [
    "**Sean Moffat**  \n",
    "Data Scientist and Economist"
   ]
  },
  {
   "cell_type": "markdown",
   "metadata": {},
   "source": [
    "*I'm interested in data science because I believe this field has a lot of overlap with economics. I've always been interested in how government agencies, businesses and individual people make decisions; this interest led to my degrees in economics. As an economist, I was trained to work with varied data sets, different software packages (such as SHAZAM, LIMDEP, EViews and SAS) and communicate my findings in a compelling manner (through written narrative or PowerPoint).* \n",
    "\n",
    "*I believe the fields of economics and data science have many things in common. Both fields are focused: finding data-driven solutions to problems, using tools to work with data and being able to communicate analysis finds (including recommendations) effectively.*"
   ]
  },
  {
   "cell_type": "markdown",
   "metadata": {},
   "source": [
    "### The objective of this Python project is to support my capstone project for IBM Data Science Professional Certificate offered by Coursera.  \n",
    "* I'll be using  Jupyter Notebook to complete this project \n",
    "* Here is a [link](https://www.ibm.com/blogs/ibm-training/data-science-ibm-coursera/) to IBM's press release for this course"
   ]
  },
  {
   "cell_type": "code",
   "execution_count": 1,
   "metadata": {},
   "outputs": [
    {
     "name": "stdout",
     "output_type": "stream",
     "text": [
      "Python Details :  3.7.3 (default, Mar 27 2019, 16:54:48) \n",
      "[Clang 4.0.1 (tags/RELEASE_401/final)]\n",
      "Your Python Version is :  3.7.3\n",
      "pandas is installed; we're using version:  0.25.1\n",
      "NumPy is installed; we're using version:  1.16.4\n"
     ]
    },
    {
     "data": {
      "text/plain": [
       "<function print>"
      ]
     },
     "execution_count": 1,
     "metadata": {},
     "output_type": "execute_result"
    }
   ],
   "source": [
    "# Step 1: Basic program set up, including importing a couple of useful libraries\n",
    "# Printing the directory you are in\n",
    "#import os\n",
    "#print (\"Current Directory : \", os.path.abspath('.'))\n",
    "#print\n",
    "\n",
    "# Printing what Python Version is installed\n",
    "import sys\n",
    "import platform\n",
    "print (\"Python Details : \", sys.version)\n",
    "print (\"Your Python Version is : \", platform.python_version())\n",
    "print\n",
    "\n",
    "\n",
    "# Importing useful Python libraries \n",
    "try:\n",
    "    import pandas as pd \n",
    "    print (\"pandas is installed; we're using version: \", pd.__version__)\n",
    "except ImportError:\n",
    "    sys.exit(\"Error : pandas can not be imported or not installed.\")\n",
    "print\n",
    "\n",
    "try:\n",
    "    import numpy as np \n",
    "    print (\"NumPy is installed; we're using version: \", np.__version__)\n",
    "except ImportError:\n",
    "    sys.exit(\"Error : NumPy can not be imported or not installed.\")\n",
    "print\n"
   ]
  },
  {
   "cell_type": "code",
   "execution_count": 2,
   "metadata": {},
   "outputs": [
    {
     "name": "stdout",
     "output_type": "stream",
     "text": [
      "Hello Capstone Project Course!\n"
     ]
    }
   ],
   "source": [
    "print(\"Hello Capstone Project Course!\")"
   ]
  },
  {
   "cell_type": "markdown",
   "metadata": {},
   "source": [
    "#### <font color='red'><i>Version history</i> </font>\n",
    "---"
   ]
  },
  {
   "cell_type": "markdown",
   "metadata": {},
   "source": [
    "| Date (YYYY-MM-DD) | Version | Changed By  | Change Description            |\n",
    "| :---              | :---:   | :---        | :---                          |\n",
    "| 2020-09-08        | 0.0     | Sean Moffat | Initial file upload to GitHub |\n",
    "|                   |         |             |                               |"
   ]
  },
  {
   "cell_type": "code",
   "execution_count": null,
   "metadata": {},
   "outputs": [],
   "source": []
  }
 ],
 "metadata": {
  "kernelspec": {
   "display_name": "Python 3",
   "language": "python",
   "name": "python3"
  },
  "language_info": {
   "codemirror_mode": {
    "name": "ipython",
    "version": 3
   },
   "file_extension": ".py",
   "mimetype": "text/x-python",
   "name": "python",
   "nbconvert_exporter": "python",
   "pygments_lexer": "ipython3",
   "version": "3.7.3"
  }
 },
 "nbformat": 4,
 "nbformat_minor": 1
}
