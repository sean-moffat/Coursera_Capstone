{
 "cells": [
  {
   "cell_type": "markdown",
   "metadata": {
    "collapsed": true
   },
   "source": [
    "<h1>The Effect of Vehicle Use on Accident Severity: Analysis of Chicago Traffic Data Using Supervised Machine Learning</h1>"
   ]
  },
  {
   "cell_type": "markdown",
   "metadata": {},
   "source": [
    "**Sean Moffat**<br>\n",
    "Data Scientist and Economist\n",
    "\n",
    "September 10, 2020"
   ]
  },
  {
   "cell_type": "markdown",
   "metadata": {},
   "source": [
    "*I'm interested in data science because I believe this field has a lot of overlap with economics. I've always been interested in how government agencies, businesses and individual people make decisions; this interest led to my degrees in economics. As an economist, I was trained to work with varied data sets, different software packages (such as SHAZAM, LIMDEP, EViews and SAS) and communicate my findings in a compelling manner (through written narrative or PowerPoint).* \n",
    "\n",
    "*I believe the fields of economics and data science have many things in common. Both fields are focused: finding data-driven solutions to problems, using tools to work with data and being able to communicate analysis finds (including recommendations) effectively.*"
   ]
  },
  {
   "cell_type": "markdown",
   "metadata": {},
   "source": [
    "### The objective of this Python project is to support my capstone project for IBM's Data Science Professional Certificate offered by Coursera.\n",
    "* I'll be using  Jupyter Notebook to complete this Applied Data Science Capstone project\n",
    "* Here is a [link](https://www.ibm.com/blogs/ibm-training/data-science-ibm-coursera/) to IBM's press release for this course"
   ]
  },
  {
   "cell_type": "markdown",
   "metadata": {},
   "source": [
    "<div class=\"alert alert-block alert-info\" style=\"margin-top: 1px\">\n",
    "<h2>Table of contents</h2>\n",
    "\n",
    "1. Introduction\n",
    "1. Data\n",
    "1. Methodology\n",
    "1. Results\n",
    "1. Discussion\n",
    "1. Conclusions\n",
    "\n",
    "</div>"
   ]
  },
  {
   "cell_type": "markdown",
   "metadata": {},
   "source": [
    "<h2>1. Introduction</h2>\n",
    "  \n",
    "First responders (EMT's, fire fighters and police) across the United States have challenging careers where there is additional risk not needed when traveling to and from an incident calls. In 2017, collisions involving fire department emergency vehicles accounted for 1,005 injuries to firefighters in the U.S. according to [Evarts, Ben. (2018, November 1). U.S. Firefighter Injuries in 2017. NFPA Journal.](https://www.nfpa.org/News-and-Research/Publications-and-Media/NFPA-Journal/2018/November-December-2018/Features/US-Firefighter-Injuries-2017). Some police traffic accidents are a direct result of first responders disregarding their department's policies or disregarding a direct order to terminate a pursuit. In Chicago, police pursuits have increased in frequency and resulted in more damage. \n",
    "\n",
    "As a result of fatal policy pursuit crash on June 3, 2020 [(Charles, Sam. (2020, June 4). Lightfoot to change police pursuit policy after fatal crash. Chicago Sun-Times.)](https://chicago.suntimes.com/city-hall/2020/6/4/21280780/chicago-police-department-pursuit-policy-fatal-crash), Chicago's mayor as made swift changes to the police pursuit policy; this [policy was changed in August 2020](http://directives.chicagopolice.org/directives/data/a7a57be2-1291920c-54712-9192-aecb02ef17e0c47d.pdf?hl=true)\n",
    "\n",
    "First responders involved in traffic accidents en route to incident calls have immeasurable costs to those requesting help along with those answering the call for help. It is in everyone's interest to know and understand the facts of this situation. With a shared understanding of the facts, the general public, elected officials and first responders can develop data-driven policies to mitigate accidents during first responders' incident calls.\n",
    "\n",
    "This analysis will predict the severity of an accidents involving ambulance, fire and police (first responders) and personal use vehicles. Including personal use vehicles will serve as control to help compare accident incident rates between emergency and non-emergency vehicles.\n"
   ]
  },
  {
   "attachments": {},
   "cell_type": "markdown",
   "metadata": {},
   "source": [
    "<h2>2. Data</h2>\n",
    "\n",
    "I used one data source for this analysis, [The City of Chicago's open data portal](https://data.cityofchicago.org/). Specifically, this analysis used data sets from Traffic Crashes subject area under the Transportation genre. The traffic crashes data sets report information on each traffic crash on city streets within the City of Chicago limits and under the jurisdiction of Chicago Police Department (CPD). \n",
    "\n",
    "Each of the Traffic Crashes data set file contain data from March 3, 2013 - September 7, 2020, although complete citywide data coverage didn't begin until September 1, 2017. These data sets were joined using the CRASH_RECORD_ID attribute. \n",
    "\n",
    "Lastly, a crash represents a collision between a car and one or more other cars, pedestrian, bicyclist, or fixed object. Below is a brief description of each data set, followed by Tables 1 and 2 which report traffic accidents figures by vehicle use and time. All data sets were accessed on September 8, 2020 at 11:45 a.m.\n",
    "\n",
    "*__A. Crashes__* \n",
    "\n",
    "I collected *Crashes* data from The City of Chicago's open data portal for [Traffic Crashes - Crashes](https://data.cityofchicago.org/Transportation/Traffic-Crashes-Crashes/85ca-t3if) data. This file contains crash data, and each record in the file represents a unique traffic crash. \n",
    "\n",
    "In this analysis, I focus on a *subset* of vehicle types (defined as 'vehicle_use' attribute) for traffic accidents that occurred in Chicago from September 1, 2017 - August 31, 2020 (this covers 36 months). In addition, we limit the analysis to accidents involving at least one first responder (ambulance, fire and police) vehicle. For comparison purposes, we include personal vehicles as well. \n",
    "\n",
    "Information on crashes forms the building blocks for this analysis. The target variable (i.e., the label) for our supervised machine learning (SML) models comes from this data set. \n",
    "\n",
    "\n",
    "*__B. Vehicles__* \n",
    "\n",
    "I collected *Vehicles* data from The City of Chicago's open data portal for [Traffic Crashes - Vehicles](https://data.cityofchicago.org/Transportation/Traffic-Crashes-Vehicles/68nd-jvt3) data. This file contains information about vehicles involved in a traffic crash. Each record in the file represents a vehicle. A vehicle can have multiple occupants, as such, it is possible for records in the vehicle table to have a many to one relationship to the crashes table. \n",
    "\n",
    "The 'VEHICLE_USE' attribute will be used to identify ambulance, fire, police (representing first responders) and personal vehicles.\n",
    "\n",
    "\n",
    "Table 1: Number of Traffic Accidents by Vehicle Use\n",
    "\n",
    "| Vehicle Use | Number of Traffic<br>Accidents |\n",
    "| :---        | :---:                          | \n",
    "| Ambulance   | 381                            | \n",
    "| Fire        | 341                            | \n",
    "| Police      | 2,081                          | \n",
    "| Personal    | 280,010                        | \n",
    "| Full subset | 282,813                        | \n",
    "\n",
    "\n",
    "Table 2: Number of Injuries from Traffic Accidents by Vehicle Use\n",
    "\n",
    "| Vehicle Use | Number of Traffic<br>Accidents with Injuries | Mean     | Standard Deviation | Minimum | Maximum | \n",
    "| :---        | :---:                                        | :---:    | :---:              | :---:   | :---:   |\n",
    "| Ambulance   | 25                                           | 0.065963 | 0.361328           | 0       | 5       |\n",
    "| Fire        | 14                                           | 0.041298 | 0.274249           | 0       | 3       |\n",
    "| Police      | 375                                          | 0.180897 | 0.592408           | 0       | 6       |\n",
    "| Personal    | 56,813                                       | 0.203172 | 0.59001            | 0       | 19      |\n",
    "| Full subset | 57,227                                       | aaa      | bbb                | 0       | ddd     |\n"
   ]
  },
  {
   "cell_type": "code",
   "execution_count": null,
   "metadata": {},
   "outputs": [],
   "source": []
  },
  {
   "cell_type": "code",
   "execution_count": 1,
   "metadata": {},
   "outputs": [
    {
     "name": "stdout",
     "output_type": "stream",
     "text": [
      "Python Details :  3.7.3 (default, Mar 27 2019, 16:54:48) \n",
      "[Clang 4.0.1 (tags/RELEASE_401/final)]\n",
      "Your Python Version is :  3.7.3\n",
      "pandas is installed; we're using version:  0.25.1\n",
      "NumPy is installed; we're using version:  1.16.4\n"
     ]
    },
    {
     "data": {
      "text/plain": [
       "<function print>"
      ]
     },
     "execution_count": 1,
     "metadata": {},
     "output_type": "execute_result"
    }
   ],
   "source": [
    "# Step 1: Basic program set up, including importing a couple of useful libraries\n",
    "# Printing the directory you are in\n",
    "#import os\n",
    "#print (\"Current Directory : \", os.path.abspath('.'))\n",
    "#print\n",
    "\n",
    "# Printing what Python Version is installed\n",
    "import sys\n",
    "import platform\n",
    "print (\"Python Details : \", sys.version)\n",
    "print (\"Your Python Version is : \", platform.python_version())\n",
    "print\n",
    "\n",
    "\n",
    "# Importing useful Python libraries \n",
    "try:\n",
    "    import pandas as pd \n",
    "    print (\"pandas is installed; we're using version: \", pd.__version__)\n",
    "except ImportError:\n",
    "    sys.exit(\"Error : pandas can not be imported or not installed.\")\n",
    "print\n",
    "\n",
    "try:\n",
    "    import numpy as np \n",
    "    print (\"NumPy is installed; we're using version: \", np.__version__)\n",
    "except ImportError:\n",
    "    sys.exit(\"Error : NumPy can not be imported or not installed.\")\n",
    "print\n"
   ]
  },
  {
   "cell_type": "code",
   "execution_count": 2,
   "metadata": {},
   "outputs": [
    {
     "name": "stdout",
     "output_type": "stream",
     "text": [
      "Hello Capstone Project Course!\n"
     ]
    }
   ],
   "source": [
    "print(\"Hello Capstone Project Course!\")"
   ]
  },
   "cell_type": "markdown",
   "metadata": {},
   "source": [
    "<h3> <font color='red'><i>Version history</i></font> </h3>\n",
    "\n",
    "---"
   ]
  },
  {
   "cell_type": "markdown",
   "metadata": {},
   "source": [
    "| Date (YYYY-MM-DD) | Version | Changed By  | Change Description            |\n",
    "| :---              | :---:   | :---        | :---                          |\n",
    "| 2020-09-10        | 0.1     | Sean Moffat | 1) Renamed the file (dropped \"--v0.0\" from file name; 2) added Table of contents; 3) added the Introduction and Data sections; |\n",
    "| 2020-09-08        | 0.0     | Sean Moffat | Initial file upload to GitHub |"
   ]
  },
  {
   "cell_type": "code",
   "execution_count": null,
   "metadata": {},
   "outputs": [],
   "source": []
  }
 ],
 "metadata": {
  "kernelspec": {
   "display_name": "Python 3",
   "language": "python",
   "name": "python3"
  },
  "language_info": {
   "codemirror_mode": {
    "name": "ipython",
    "version": 3
   },
   "file_extension": ".py",
   "mimetype": "text/x-python",
   "name": "python",
   "nbconvert_exporter": "python",
   "pygments_lexer": "ipython3",
   "version": "3.7.3"
  }
 },
 "nbformat": 4,
 "nbformat_minor": 1
}
